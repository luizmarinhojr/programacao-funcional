{
 "cells": [
  {
   "cell_type": "markdown",
   "metadata": {},
   "source": [
    "### Funções Puras\n",
    "\n",
    "São aquelas que dependem apenas dos parâmetros de entrada para gerar uma saída. Elas sempre retornam um valor, um objeto ou outra função. Em qualquer ponto do programa, ao chamar uma função pura, com os mesmos parâmetros, devemos obter sempre o mesmo resultado.\n",
    "\n",
    "Veja os dois scripts, funcao1.py e funcao2.py, nos dois emuladores a seguir:"
   ]
  },
  {
   "cell_type": "code",
   "execution_count": 6,
   "metadata": {},
   "outputs": [
    {
     "name": "stdout",
     "output_type": "stream",
     "text": [
      "Resultado 100\n",
      "Resultado 500\n"
     ]
    }
   ],
   "source": [
    "# script funcao1.py\n",
    "valor = 20\n",
    "\n",
    "def multiplica(fator):\n",
    "    global valor\n",
    "    valor = valor * fator\n",
    "    print(\"Resultado\", valor)\n",
    "\n",
    "def main():\n",
    "    numero = 5\n",
    "    multiplica(numero)\n",
    "    multiplica(numero)\n",
    " \n",
    "# Quando um script python é executado, a variável reservada\n",
    "# NAME referente a ele tem valor igual à \"__main__\".\n",
    "# Nesse caso, a condição do IF a seguir será TRUE,\n",
    "# então o que está no corpo do IF será executado. \n",
    "# No caso, é um chamado ao método main do script\n",
    " \n",
    "if __name__ == \"__main__\":\n",
    "    main()\n"
   ]
  },
  {
   "cell_type": "code",
   "execution_count": 7,
   "metadata": {},
   "outputs": [
    {
     "name": "stdout",
     "output_type": "stream",
     "text": [
      "Resultado 100\n",
      "Resultado 100\n"
     ]
    }
   ],
   "source": [
    "# script funcao2.py\n",
    "valor = 20\n",
    "\n",
    "def multiplica(valor, fator):\n",
    "    valor = valor * fator\n",
    "    return valor\n",
    "\n",
    "def main():\n",
    "    numero = 5\n",
    "    print(\"Resultado\", multiplica(valor, numero))\n",
    "    print(\"Resultado\", multiplica(valor, numero))\n",
    "\n",
    "if __name__ == \"__main__\":\n",
    "    main()\n"
   ]
  },
  {
   "cell_type": "markdown",
   "metadata": {},
   "source": [
    "<br>\n",
    "\n",
    "### Dados imutáveis\n",
    "São aqueles que não podem ser alterados após sua criação. Apesar do Python disponibilizar algumas estruturas de dados imutáveis, como as tuplas, a maioria é mutável. <b>Na programação funcional, devemos tratar todos os dados como imutáveis</b>!<br>\n",
    "\n",
    "Observe os scripts funcao3.py e funcao4.py a seguir, em que passamos a lista valores como argumento para a função altera_lista. Lembre-se de que, no Python, ao passar uma lista como argumento, apenas passamos sua referência, ou seja, qualquer mudança feita no parâmetro dentro da função, também altera a lista original."
   ]
  },
  {
   "cell_type": "code",
   "execution_count": 8,
   "metadata": {},
   "outputs": [
    {
     "name": "stdout",
     "output_type": "stream",
     "text": [
      "Nova lista [2, 3, 14]\n",
      "Nova lista [2, 3, 24]\n"
     ]
    }
   ],
   "source": [
    "# script funcao3.py\n",
    "# captando os valores do campo Input\n",
    "valores = input() # input -> 2 3 4\n",
    "# separando os valores pelo espaço em branco e \n",
    "# transformando-os em uma lista de inteiros\n",
    "valores = [int(i) for i in valores.split()] # [2,3,4]\n",
    "\n",
    "def altera_lista(lista):\n",
    "    lista[2] = lista[2] + 10\n",
    "    return lista\n",
    "\n",
    "def main():\n",
    "    print(\"Nova lista\", altera_lista(valores))\n",
    "    print(\"Nova lista\", altera_lista(valores))\n",
    "\n",
    "if __name__ == \"__main__\":\n",
    "    main()\n"
   ]
  },
  {
   "cell_type": "code",
   "execution_count": 9,
   "metadata": {},
   "outputs": [
    {
     "name": "stdout",
     "output_type": "stream",
     "text": [
      "Nova lista [2, 3, 4]\n",
      "Nova lista [2, 3, 4]\n"
     ]
    }
   ],
   "source": [
    "# script funcao4.py\n",
    "\n",
    "# captando os valores do campo Input\n",
    "\n",
    "valores = input() # input -> 2 3 4\n",
    "\n",
    "# separando os valores pelo espaço em branco e\n",
    "\n",
    "# transformando-os em uma lista de inteiros\n",
    "\n",
    "valores = [int(i) for i in valores.split()] # [2,3,4]\n",
    "\n",
    "\n",
    "\n",
    "def altera_lista(lista):\n",
    "\n",
    "    nova_lista = list(lista)\n",
    "\n",
    "    nova_lista[2] = nova_lista[2] + 10\n",
    "\n",
    "    return lista\n",
    "\n",
    "\n",
    "\n",
    "def main():\n",
    "\n",
    "        print(\"Nova lista\", altera_lista(valores))\n",
    "\n",
    "        print(\"Nova lista\", altera_lista(valores))\n",
    "\n",
    "if __name__ == \"__main__\":\n",
    "\n",
    "        main()"
   ]
  },
  {
   "cell_type": "markdown",
   "metadata": {},
   "source": [
    "<br>\n",
    "\n",
    "### Função de Ordem Superior\n",
    "Na programação funcional, é muito comum utilizar funções que aceitem outras funções, como parâmetros ou que retornem outra função.\n",
    "\n",
    "Essas funções são chamadas de funções de ordem superior (higher order function).\n",
    "\n",
    "No exemplo a seguir, script funcao5.py, vamos criar uma função de ordem superior chamada multiplicar_por. Ela será utilizada para criar e retornar novas funções.\n",
    "\n",
    "Essa função, ao ser chamada com um determinado multiplicador como argumento, retorna uma nova função multiplicadora por aquele multiplicador e que tem como parâmetro o número a ser multiplicado (multiplicando). Veja o seguinte código:"
   ]
  },
  {
   "cell_type": "code",
   "execution_count": 10,
   "metadata": {},
   "outputs": [
    {
     "name": "stdout",
     "output_type": "stream",
     "text": [
      "10\n",
      "20\n",
      "5\n",
      "10\n"
     ]
    }
   ],
   "source": [
    "# script funcao5.py\n",
    "def multiplicar_por(multiplicador):\n",
    "    def multi(multiplicando):\n",
    "        return multiplicando * multiplicador\n",
    "    return multi\n",
    "\n",
    "def main():\n",
    "    multiplicar_por_10 = multiplicar_por(10)\n",
    "    print(multiplicar_por_10(1))\n",
    "    print(multiplicar_por_10(2))\n",
    " \n",
    "    multiplicar_por_5 = multiplicar_por(5)\n",
    "    print(multiplicar_por_5(1))\n",
    "    print(multiplicar_por_5(2))\n",
    "\n",
    "if __name__ == \"__main__\":\n",
    "    main()\n"
   ]
  },
  {
   "cell_type": "markdown",
   "metadata": {},
   "source": [
    "<br>\n",
    "\n",
    "Dentro da função “pai” multiplicar_por, definimos a função multi (linha 3), que espera um parâmetro chamado multiplicando, que será multiplicado pelo multiplicador passado como parâmetro para a função “pai”.\n",
    "\n",
    "Ao chamar a função multiplicar_por com o argumento 10 (linha 8), definimos a função interna multi como:\n",
    "\n",
    "```py\n",
    "def multi(multiplicando):\n",
    "    return multiplicando * 10\n",
    "```\n",
    "\n",
    "Essa função é retornada e armazenada na variável multiplicar_por_10 (linha 8), que nada mais é que uma referência para a função multi recém-criada.\n",
    "\n",
    "Dessa forma, podemos chamar a função multiplicar_por_10, passando um número como argumento, o multiplicando, para ser multiplicado por 10 (linhas 9 e 10), produzindo os resultados 10 e 20.\n",
    "\n",
    "Da mesma forma, criamos a função multiplicar_por_5, passando o número 5 como argumento para a função multiplicar_por (linha 12), que recebe uma referência para a função:\n",
    "\n",
    "```py\n",
    "def multi(multiplicando):\n",
    "    return multiplicando * 5\n",
    "```\n",
    "\n",
    "Com isso, podemos utilizar a função multiplicar_por_5 para multiplicar um número por 5 (linhas 13 e 14).\n",
    "\n",
    "Clique no emulador anterior e observe a saída do programa em seu campo console."
   ]
  },
  {
   "cell_type": "markdown",
   "metadata": {},
   "source": [
    "<br>\n",
    "\n",
    "### Funções Lambda\n",
    "Assim como em outras linguagens, o Python permite a criação de funções anônimas. Estas são definidas sem identificador (ou nome) e, normalmente, são utilizadas como argumentos para outras funções (de ordem superior).\n",
    "\n",
    "Em Python, as funções anônimas são chamadas de funções lambda. Para criá-las, utilizamos a seguinte sintaxe:\n",
    "\n",
    "lambda argumentos: expressão\n",
    "\n",
    "Iniciamos com a palavra reservada lambda, seguida de uma sequência de argumentos separados por vírgula, dois pontos e uma expressão de apenas uma linha. As funções lambda sempre retornam o valor da expressão automaticamente. Não é necessário utilizar a palavra return.\n",
    "\n",
    "Considere a função para multiplicar dois números a seguir:\n",
    "\n",
    "```py\n",
    "def multiplicar(a, b):\n",
    "    return a*b\n",
    "```\n",
    "A função lambda equivalente é:\n",
    "\n",
    "```py\n",
    "lambda a, b: a*b\n",
    "```\n",
    "\n",
    "Temos os parâmetros a e b e a expressão a*b, que é retornado automaticamente. As funções lambda podem ser armazenadas em variáveis para depois serem chamadas como uma função qualquer.\n",
    "\n",
    "Retornando ao exemplo da função multiplicar_por (script funcao5.py), podemos trocar a função multi por uma função lambda.\n",
    "\n",
    "Observe o exemplo abaixo:"
   ]
  },
  {
   "cell_type": "code",
   "execution_count": 11,
   "metadata": {},
   "outputs": [
    {
     "name": "stdout",
     "output_type": "stream",
     "text": [
      "10\n",
      "20\n",
      "5\n",
      "10\n"
     ]
    }
   ],
   "source": [
    "# script funcao5.py\n",
    "def multiplicar_por(multiplicador):\n",
    "    def multi(multiplicando):\n",
    "        return multiplicando * multiplicador\n",
    "    return multi\n",
    "\n",
    "def main():\n",
    "    multiplicar_por_10 = multiplicar_por(10)\n",
    "    print(multiplicar_por_10(1))\n",
    "    print(multiplicar_por_10(2))\n",
    " \n",
    "    multiplicar_por_5 = multiplicar_por(5)\n",
    "    print(multiplicar_por_5(1))\n",
    "    print(multiplicar_por_5(2))\n",
    "\n",
    "if __name__ == \"__main__\":\n",
    "    main()"
   ]
  },
  {
   "cell_type": "markdown",
   "metadata": {},
   "source": [
    "<br>\n",
    "\n",
    "Agora observe a modificação utilizando-se o lambda na função multiplicar_por()"
   ]
  },
  {
   "cell_type": "code",
   "execution_count": 12,
   "metadata": {},
   "outputs": [
    {
     "name": "stdout",
     "output_type": "stream",
     "text": [
      "10\n",
      "20\n",
      "5\n",
      "10\n"
     ]
    }
   ],
   "source": [
    "# script anonima.py (versão alterada do script funcao5.py)\n",
    "def multiplicar_por(multiplicador):\n",
    "    return lambda multiplicando: multiplicando * multiplicador\n",
    "\n",
    "def main():\n",
    "    multiplicar_por_10 = multiplicar_por(10)\n",
    "    print(multiplicar_por_10(1))\n",
    "    print(multiplicar_por_10(2))\n",
    " \n",
    "    multiplicar_por_5 = multiplicar_por(5)\n",
    "    print(multiplicar_por_5(1))\n",
    "    print(multiplicar_por_5(2))\n",
    "\n",
    "if __name__ == \"__main__\":\n",
    "    main()\n"
   ]
  },
  {
   "cell_type": "markdown",
   "metadata": {},
   "source": [
    "<br>\n",
    "\n",
    "### Não utilizar Loops\n",
    "Outra regra, ou boa prática, da programação funcional é não utilizar laços (for e while), mas sim composição de funções ou recursividade.\n",
    "\n",
    "A função lambda exerce um papel fundamental nisso, como veremos a seguir.\n",
    "\n",
    "Para facilitar a composição de funções e evitar loops, o Python disponibiliza diversas funções e operadores.\n",
    "\n",
    "As funções internas mais comuns são map e filter.\n",
    "\n",
    "<br>\n",
    "\n",
    "### Maps\n",
    "\n",
    "A função map é utilizada para aplicar uma determinada função em cada elemento de um iterável (lista, tupla, dicionários etc.), retornando um novo iterável com os valores modificados.\n",
    "\n",
    "----------------------------------------------------------\n",
    "*A função map é pura e de ordem superior, pois depende apenas de seus parâmetros e recebe uma função como parâmetro. A sua sintaxe é a seguinte:*\n",
    "\n",
    "```py\n",
    "map(função, iterável1, iterável2...)\n",
    "```\n",
    "\n",
    "---------------------------------------------------------\n",
    "\n",
    "<b>O primeiro parâmetro da map é o nome da função (sem parênteses) que será executada para cada item do iterável. Os demais parâmetros são os iteráveis separados por vírgula. A função map sempre retorna um novo iterável.</b>\n",
    "\n",
    "Nos exemplos a seguir, vamos criar três scripts funcao_iterable.py, funcao_map.py e funcao_map_lambda.py. Todos executam a mesma operação. Recebem uma lista e triplicam cada item, gerando uma nova lista com os valores triplicados:"
   ]
  },
  {
   "cell_type": "code",
   "execution_count": 13,
   "metadata": {},
   "outputs": [
    {
     "name": "stdout",
     "output_type": "stream",
     "text": [
      "[3, 6, 9, 12, 15]\n"
     ]
    }
   ],
   "source": [
    "# script funcao_iterable.py\n",
    "lista = [1, 2, 3, 4, 5]\n",
    "\n",
    "def triplica_itens(iterable):\n",
    "    lista_aux = []\n",
    "    for item in iterable:\n",
    "        lista_aux.append(item*3)\n",
    "    return lista_aux\n",
    "\n",
    "def main():\n",
    "    nova_lista = triplica_itens(lista)\n",
    "    print(nova_lista)\n",
    "\n",
    "if __name__ == \"__main__\":\n",
    "    main()\n"
   ]
  },
  {
   "cell_type": "code",
   "execution_count": 14,
   "metadata": {},
   "outputs": [
    {
     "name": "stdout",
     "output_type": "stream",
     "text": [
      "[3, 6, 9, 12, 15]\n"
     ]
    }
   ],
   "source": [
    "# script funcao_map.py\n",
    "lista = [1, 2, 3, 4, 5]\n",
    "\n",
    "def triplica(item):\n",
    "    return item * 3\n",
    "\n",
    "def main():\n",
    "    nova_lista = map(triplica, lista)\n",
    "    print(list(nova_lista))\n",
    "\n",
    "if __name__ == \"__main__\":\n",
    "    main()\n"
   ]
  },
  {
   "cell_type": "code",
   "execution_count": 15,
   "metadata": {},
   "outputs": [
    {
     "name": "stdout",
     "output_type": "stream",
     "text": [
      "[3, 6, 9, 12, 15]\n"
     ]
    }
   ],
   "source": [
    "# script funcao_map_lambda.py\n",
    "lista = [1, 2, 3, 4, 5]\n",
    "\n",
    "nova_lista = map(lambda item: item * 3, lista)# função lambda\n",
    "\n",
    "def main():\n",
    "    print(list(nova_lista))\n",
    "\n",
    "if __name__ == \"__main__\":\n",
    "    main()\n"
   ]
  },
  {
   "cell_type": "markdown",
   "metadata": {},
   "source": [
    "#### funcao_iterable.py\n",
    "Definimos uma função chamada triplica_itens, que recebe um iterável como parâmetro (linha 4), cria uma lista auxiliar para garantir imutabilidade (linha 5), percorre os itens do iterável passado como parâmetro (linha 6), adiciona os itens triplicados à lista auxiliar (linha 7) e retorna a lista auxiliar (linha 8).\n",
    "\n",
    "Essa função é chamada com o argumento lista (linha 11) e o resultado é impresso (linha 12).\n",
    "\n",
    "\n",
    "#### funcao_map.py\n",
    "Definimos a função triplica, que triplica e retorna o item passado como parâmetro (linhas 4 e 5). É utilizada, assim como a variável lista, como argumentos para a função map (linha 8).\n",
    "\n",
    "A map vai aplicar internamente a função passada como parâmetro em cada item da lista, retornando um novo iterável(que pode ser convertido em listas, tuplas etc.). O resultado da função map é armazenado na variável nova_lista, para então ser impresso (linha 9).\n",
    "\n",
    "A função map garante a imutabilidade dos iteráveis passados como argumento. Como a função map retorna um iterável, utilizamos o construtor list (iterável) para imprimir o resultado (linha 9).\n",
    "\n",
    "\n",
    "#### funcao_map_lambda.py\n",
    "Substituímos a função triplica pela função lambda (lambda item: item*3), que foi utilizada como argumento para a função map (linha 4). Esta vai aplicar a função lambda em cada item da lista, retornando um novo iterável que foi impresso posteriormente (linha 7).\n",
    "\n",
    "Observe como o código foi reduzido e mesmo assim preservamos a utilização de funções puras (lambda), alta ordem (map) e que preservaram a imutabilidade dos dados. Tudo isso para garantir que não haja efeitos colaterais e dependência de estados."
   ]
  },
  {
   "cell_type": "markdown",
   "metadata": {},
   "source": [
    "<br>\n",
    "\n",
    "### Filter\n",
    "É utilizada para filtrar elementos de um iterável (lista, tupla, dicionários etc.). O filtro é realizado utilizando uma função, que deve ser capaz de retornar true ou false (verdadeiro ou falso) para cada elemento do iterável.\n",
    "\n",
    "Todo elemento que for avaliado como true será incluído em um novo iterável retornado pela função filter, que é pura e de alta ordem, pois depende apenas dos parâmetros e recebe uma função como parâmetro. A sua sintaxe é a seguinte:\n",
    "\n",
    "```py\n",
    "filter(função, iterável)\n",
    "```\n",
    "\n",
    "<b>O primeiro parâmetro da função filter é o nome da função (sem parênteses), que será executada para cada item do iterável. O segundo parâmetro é o iterável. A função filter sempre retorna um novo iterável, mesmo que vazio.</b>\n",
    "\n",
    "Nos exemplos a seguir, funções função_filtro_iterable.py, função_filter.py e função_filter_lambda.py, vamos criar três scripts. Todos fazem a mesma filtragem. Recebem uma lista e retornam os elementos ímpares, gerando uma nova lista, de forma a garantir a imutabilidade."
   ]
  },
  {
   "cell_type": "code",
   "execution_count": 18,
   "metadata": {},
   "outputs": [
    {
     "name": "stdout",
     "output_type": "stream",
     "text": [
      "[1, 3, 5]\n"
     ]
    }
   ],
   "source": [
    "# script funcao_filtro_iterable.py\n",
    "lista = [1, 2, 3, 4, 5]\n",
    "\n",
    "def impares(iterable):\n",
    "    lista_aux = []\n",
    "    for item in iterable:\n",
    "        if item % 2 != 0:\n",
    "            lista_aux.append(item)\n",
    "    return lista_aux\n",
    "\n",
    "def main():\n",
    "    nova_lista = impares(lista)\n",
    "    print(nova_lista)\n",
    "\n",
    "if __name__ == \"__main__\":\n",
    "    main()\n"
   ]
  },
  {
   "cell_type": "code",
   "execution_count": 20,
   "metadata": {},
   "outputs": [
    {
     "name": "stdout",
     "output_type": "stream",
     "text": [
      "[1, 3, 5]\n"
     ]
    }
   ],
   "source": [
    "# script funcao_filter.py\n",
    "lista = [1, 2, 3, 4, 5]\n",
    " \n",
    "def impar(item):\n",
    "    return item % 2 != 0\n",
    "\n",
    "def main():\n",
    "    nova_lista = filter(impar, lista)\n",
    "    print(list(nova_lista))\n",
    " \n",
    "if __name__ == \"__main__\":\n",
    "    main()\n"
   ]
  },
  {
   "cell_type": "code",
   "execution_count": 19,
   "metadata": {},
   "outputs": [
    {
     "name": "stdout",
     "output_type": "stream",
     "text": [
      "[1, 3, 5]\n"
     ]
    }
   ],
   "source": [
    "# script funcao_filter_lambda.py\n",
    "lista = [1, 2, 3, 4, 5]\n",
    "\n",
    "nova_lista = filter(lambda item: item % 2 != 0, lista)\n",
    "\n",
    "def main():\n",
    "    print(list(nova_lista))\n",
    "\n",
    "if __name__ == \"__main__\":\n",
    "    main()"
   ]
  },
  {
   "cell_type": "markdown",
   "metadata": {},
   "source": [
    "<br>\n",
    "\n",
    "#### funcao_filtro_iterable.py\n",
    "Definimos uma função chamada ímpares, que recebe um iterável como parâmetro (linha 4), cria uma lista auxiliar para garantir imutabilidade (linha 5), percorre os itens do iterável passados como parâmetros (linha 6), adiciona os itens ímpares à lista auxiliar (linhas 7 e 8) e retorna a lista auxiliar (linha 9).\n",
    "\n",
    "Essa função é chamada com o argumento lista (linha 12) e o resultado é impresso (linha 13).\n",
    "\n",
    "#### funcao_filter.py\n",
    "Definimos a função ímpar, que retorna true se o item passado como parâmetro é ímpar ou false caso contrário (linhas 4 e 5). Utilizamos essa função, assim como a variável lista, como argumentos para a função filter (linha 8).\n",
    "\n",
    "A filter vai aplicar, internamente, a função passada como parâmetro em cada item da lista, retornando um novo iterável (que pode ser convertido em listas, tuplas etc.). O resultado da função filter é armazenado na variável nova_lista, para então ser impresso (linha 9).\n",
    "\n",
    "A função filter garante a imutabilidade dos iteráveis passados como argumento. Como a função filter retorna um iterável, utilizamos o construtor list(iterável) para imprimir o resultado (linha 9).\n",
    "\n",
    "#### funcao_filter_lambda.py\n",
    "Substituímos a função ímpar pela função lambda (lambda item: item%2 != 0) que foi utilizada como argumento para a função filter (linha 4). Esta vai aplicar a função lambda em cada item da lista, retornando um novo iterável que foi impresso posteriormente (linha 7)."
   ]
  },
  {
   "cell_type": "markdown",
   "metadata": {},
   "source": [
    "<br>\n",
    "\n",
    "### Exercícios Programação Funcional\n",
    "#### Exercício 1\n",
    "Considere a lista abaixo:\n",
    "```py\n",
    "veiculos = ['avião', 'carro', 'navio', 'onibus']\n",
    "```\n",
    "Implementar uma solução de programação funcional para transformar todos os nomes em maiúsculos."
   ]
  },
  {
   "cell_type": "code",
   "execution_count": 22,
   "metadata": {},
   "outputs": [
    {
     "name": "stdout",
     "output_type": "stream",
     "text": [
      "['avião', 'carro', 'navio', 'onibus']\n",
      "['AVIÃO', 'CARRO', 'NAVIO', 'ONIBUS']\n"
     ]
    }
   ],
   "source": [
    "veiculos = ['avião', 'carro', 'navio', 'onibus']\n",
    "\n",
    "transform_maiuscula = lambda x: x.upper()\n",
    "\n",
    "veiculos_maiusculos = list(map(transform_maiuscula, veiculos))\n",
    "\n",
    "print(veiculos)\n",
    "print(veiculos_maiusculos)\n"
   ]
  },
  {
   "cell_type": "markdown",
   "metadata": {},
   "source": [
    "<br>\n",
    "\n",
    "#### Exercício 2\n",
    "Considere a lista abaixo:\n",
    "```py\n",
    "lista = [0,1,1,2,3,5,8,13,21,34]\n",
    "```\n",
    "\n",
    "Implementar uma solução através de programação funcional para imprimir apenas os números pares."
   ]
  },
  {
   "cell_type": "code",
   "execution_count": 26,
   "metadata": {},
   "outputs": [
    {
     "name": "stdout",
     "output_type": "stream",
     "text": [
      "[0, 2, 8, 34]\n"
     ]
    }
   ],
   "source": [
    "lista = [0,1,1,2,3,5,8,13,21,34]\n",
    "\n",
    "func_pares = lambda item: item % 2 == 0\n",
    "\n",
    "nova_lista = list(filter(func_pares, lista))\n",
    "\n",
    "print(nova_lista)\n",
    "\n",
    "# OU\n",
    "# lista = [0,1,1,2,3,5,8,13,21,34]\n",
    "\n",
    "# nova_lista = list(filter(lambda item: item % 2 ==0, lista))\n",
    "\n",
    "# print(nova_lista)"
   ]
  },
  {
   "cell_type": "markdown",
   "metadata": {},
   "source": [
    "<br>\n",
    "\n",
    "#### Exercício 3\n",
    "Considere as listas abaixo:\n",
    "\n",
    "```py\n",
    "lista_numeros = [9.56783, 7.57568, 3.00914, 6.2321]\n",
    "lista_precisao = [2,2,3,3]\n",
    "```\n",
    "\n",
    "Implementar uma solução através de programação funcional para arredondar os valores da lista_numeros na mesma ordem da lista_precisao"
   ]
  },
  {
   "cell_type": "code",
   "execution_count": 30,
   "metadata": {},
   "outputs": [
    {
     "name": "stdout",
     "output_type": "stream",
     "text": [
      "[9.57, 7.58, 3.009, 6.232]\n"
     ]
    }
   ],
   "source": [
    "lista_numeros = [9.56783, 7.57568, 3.00914, 6.2321]\n",
    "lista_precisao = [2,2,3,3]\n",
    "\n",
    "arredondamento = lambda x,y: round(x,y)\n",
    "\n",
    "resultado = list(map(arredondamento, lista_numeros, lista_precisao))\n",
    "\n",
    "print(resultado)"
   ]
  },
  {
   "cell_type": "markdown",
   "metadata": {},
   "source": [
    "<br>\n",
    "\n",
    "#### Exercício 4\n",
    "Considere a lista abaixo:\n",
    "\n",
    "```py\n",
    "numeros = [1,2,3,4,5,6,7,8,9,10]\n",
    "```\n",
    "\n",
    "Implementar uma solução através de programação funcional para somar todos os elementos da lista"
   ]
  },
  {
   "cell_type": "code",
   "execution_count": 31,
   "metadata": {},
   "outputs": [
    {
     "name": "stdout",
     "output_type": "stream",
     "text": [
      "55\n"
     ]
    }
   ],
   "source": [
    "import functools\n",
    "\n",
    "numeros = [1,2,3,4,5,6,7,8,9,10]\n",
    "\n",
    "somar = lambda x,y: x + y\n",
    "\n",
    "resultado = functools.reduce(somar, numeros)\n",
    "\n",
    "print(resultado)"
   ]
  }
 ],
 "metadata": {
  "kernelspec": {
   "display_name": "Python 3",
   "language": "python",
   "name": "python3"
  },
  "language_info": {
   "codemirror_mode": {
    "name": "ipython",
    "version": 3
   },
   "file_extension": ".py",
   "mimetype": "text/x-python",
   "name": "python",
   "nbconvert_exporter": "python",
   "pygments_lexer": "ipython3",
   "version": "3.12.1"
  }
 },
 "nbformat": 4,
 "nbformat_minor": 2
}
